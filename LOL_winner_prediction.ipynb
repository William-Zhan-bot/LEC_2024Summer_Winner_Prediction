{
 "cells": [
  {
   "cell_type": "raw",
   "id": "ed506fa7-f96a-43aa-a511-b11bffe99ec7",
   "metadata": {},
   "source": [
    "這裡主要想模型進行一些測試，也會想了解在訓練用的比賽當中，看到比賽數據後想像的結果和機器預測的有無差異\n",
    "第一個部分是用之前的數據仔細檢查兩個model的結果(所以有重新的data clean的過程)。\n",
    "雖然方法上不太適當，但主要是想看到更具體的比賽細節\n",
    "\n",
    "第二個預測是自己生成有關的比賽數據進行預測結果"
   ]
  },
  {
   "cell_type": "code",
   "execution_count": 1,
   "id": "c2808828-aff9-43bb-abbf-9873f1564be0",
   "metadata": {},
   "outputs": [
    {
     "data": {
      "text/plain": [
       "Index(['Player', 'Role', 'Team', 'Opponent_Team', 'Opponent_Player', 'Date',\n",
       "       'Round', 'Day', 'Patch', 'Stage', 'No_Game', 'all_Games', 'Format',\n",
       "       'Game_of_day', 'Side', 'Time', 'Ban', 'Ban_Opponent', 'Pick',\n",
       "       'Pick_Opponent', 'Champion', 'Champion_Opponent', 'Outcome',\n",
       "       'Kills_Team', 'Turrets_Team', 'Dragon_Team', 'Baron_Team', 'Level',\n",
       "       'Kills', 'Deaths', 'Assists', 'KDA', 'CS', 'CS in Team's Jungle',\n",
       "       'CS in Enemy Jungle', 'CSM', 'Golds', 'GPM', 'GOLD%', 'Vision Score',\n",
       "       'Wards placed', 'Wards destroyed', 'Control Wards Purchased',\n",
       "       'Detector Wards Placed', 'VSPM', 'WPM', 'VWPM', 'WCPM', 'VS%',\n",
       "       'Total damage to Champion', 'Physical Damage', 'Magic Damage',\n",
       "       'True Damage', 'DPM', 'DMG%', 'K+A Per Minute', 'KP%', 'Solo kills',\n",
       "       'Double kills', 'Triple kills', 'Quadra kills', 'Penta kills', 'GD@15',\n",
       "       'CSD@15', 'XPD@15', 'LVLD@15', 'Objectives Stolen',\n",
       "       'Damage dealt to turrets', 'Damage dealt to buildings', 'Total heal',\n",
       "       'Total Heals On Teammates', 'Damage self mitigated',\n",
       "       'Total Damage Shielded On Teammates', 'Time ccing others',\n",
       "       'Total Time CC Dealt', 'Total damage taken', 'Total Time Spent Dead',\n",
       "       'Consumables purchased', 'Items Purchased', 'Shutdown bounty collected',\n",
       "       'Shutdown bounty lost'],\n",
       "      dtype='object')"
      ]
     },
     "execution_count": 1,
     "metadata": {},
     "output_type": "execute_result"
    }
   ],
   "source": [
    "# 導入資料\n",
    "import numpy as np\n",
    "import pandas as pd\n",
    "df=pd.read_csv('LEC_SummerPlayoffs_2024.csv')\n",
    "df.columns"
   ]
  },
  {
   "cell_type": "code",
   "execution_count": 2,
   "id": "a516af69-beeb-4cf8-9f70-7ca286eef413",
   "metadata": {
    "scrolled": true
   },
   "outputs": [
    {
     "data": {
      "text/html": [
       "<div>\n",
       "<style scoped>\n",
       "    .dataframe tbody tr th:only-of-type {\n",
       "        vertical-align: middle;\n",
       "    }\n",
       "\n",
       "    .dataframe tbody tr th {\n",
       "        vertical-align: top;\n",
       "    }\n",
       "\n",
       "    .dataframe thead th {\n",
       "        text-align: right;\n",
       "    }\n",
       "</style>\n",
       "<table border=\"1\" class=\"dataframe\">\n",
       "  <thead>\n",
       "    <tr style=\"text-align: right;\">\n",
       "      <th></th>\n",
       "      <th>Side</th>\n",
       "      <th>Time</th>\n",
       "      <th>Turrets_Team</th>\n",
       "      <th>Dragon_Team</th>\n",
       "      <th>Baron_Team</th>\n",
       "      <th>CS</th>\n",
       "      <th>Golds</th>\n",
       "      <th>Vision Score</th>\n",
       "      <th>GD@15</th>\n",
       "      <th>Objectives Stolen</th>\n",
       "    </tr>\n",
       "    <tr>\n",
       "      <th>Games</th>\n",
       "      <th></th>\n",
       "      <th></th>\n",
       "      <th></th>\n",
       "      <th></th>\n",
       "      <th></th>\n",
       "      <th></th>\n",
       "      <th></th>\n",
       "      <th></th>\n",
       "      <th></th>\n",
       "      <th></th>\n",
       "    </tr>\n",
       "  </thead>\n",
       "  <tbody>\n",
       "    <tr>\n",
       "      <th>0</th>\n",
       "      <td>0</td>\n",
       "      <td>1600</td>\n",
       "      <td>45</td>\n",
       "      <td>15</td>\n",
       "      <td>5</td>\n",
       "      <td>1047</td>\n",
       "      <td>53902</td>\n",
       "      <td>215</td>\n",
       "      <td>2138</td>\n",
       "      <td>0</td>\n",
       "    </tr>\n",
       "    <tr>\n",
       "      <th>1</th>\n",
       "      <td>5</td>\n",
       "      <td>1600</td>\n",
       "      <td>0</td>\n",
       "      <td>5</td>\n",
       "      <td>0</td>\n",
       "      <td>957</td>\n",
       "      <td>44209</td>\n",
       "      <td>267</td>\n",
       "      <td>-2138</td>\n",
       "      <td>0</td>\n",
       "    </tr>\n",
       "    <tr>\n",
       "      <th>2</th>\n",
       "      <td>0</td>\n",
       "      <td>1890</td>\n",
       "      <td>20</td>\n",
       "      <td>15</td>\n",
       "      <td>0</td>\n",
       "      <td>1046</td>\n",
       "      <td>52709</td>\n",
       "      <td>281</td>\n",
       "      <td>75</td>\n",
       "      <td>0</td>\n",
       "    </tr>\n",
       "    <tr>\n",
       "      <th>3</th>\n",
       "      <td>5</td>\n",
       "      <td>1890</td>\n",
       "      <td>45</td>\n",
       "      <td>10</td>\n",
       "      <td>10</td>\n",
       "      <td>1126</td>\n",
       "      <td>63526</td>\n",
       "      <td>260</td>\n",
       "      <td>-75</td>\n",
       "      <td>0</td>\n",
       "    </tr>\n",
       "    <tr>\n",
       "      <th>4</th>\n",
       "      <td>0</td>\n",
       "      <td>2160</td>\n",
       "      <td>25</td>\n",
       "      <td>5</td>\n",
       "      <td>0</td>\n",
       "      <td>1233</td>\n",
       "      <td>66570</td>\n",
       "      <td>310</td>\n",
       "      <td>242</td>\n",
       "      <td>0</td>\n",
       "    </tr>\n",
       "  </tbody>\n",
       "</table>\n",
       "</div>"
      ],
      "text/plain": [
       "       Side  Time  Turrets_Team  Dragon_Team  Baron_Team    CS  Golds  \\\n",
       "Games                                                                   \n",
       "0         0  1600            45           15           5  1047  53902   \n",
       "1         5  1600             0            5           0   957  44209   \n",
       "2         0  1890            20           15           0  1046  52709   \n",
       "3         5  1890            45           10          10  1126  63526   \n",
       "4         0  2160            25            5           0  1233  66570   \n",
       "\n",
       "       Vision Score  GD@15  Objectives Stolen  \n",
       "Games                                          \n",
       "0               215   2138                  0  \n",
       "1               267  -2138                  0  \n",
       "2               281     75                  0  \n",
       "3               260    -75                  0  \n",
       "4               310    242                  0  "
      ]
     },
     "execution_count": 2,
     "metadata": {},
     "output_type": "execute_result"
    }
   ],
   "source": [
    "# 資料清洗\n",
    "df_check=df['Outcome']\n",
    "df_check=df_check[(df.index % 5 ==0)]\n",
    "i=[i for i in range(84)]\n",
    "df_check.index=i\n",
    "df = df[['Side','Time','Turrets_Team',\n",
    "    'Dragon_Team','Baron_Team',\n",
    "    'CS','Golds','Vision Score','GD@15',\n",
    "    'Objectives Stolen']]\n",
    "g_num=[ i //5 for i in range(len(df))]\n",
    "df.loc[:, 'Games']=g_num\n",
    "side_dict={'Blue':0 ,'Red':1}\n",
    "df['Side']=df['Side'].map(side_dict)\n",
    "df=df[[\n",
    "    'Side','Time','Turrets_Team',\n",
    "    'Dragon_Team','Baron_Team',\n",
    "    'CS','Golds','Vision Score','GD@15',\n",
    "    'Objectives Stolen'\n",
    "]].groupby(df['Games']).sum()\n",
    "def time_cacu(x):\n",
    "    timecacu = x[2:7].split(\":\")\n",
    "    spend=int(timecacu[0])*60+int(timecacu[1])\n",
    "    return spend\n",
    "df['Time']=df['Time'].apply(time_cacu)\n",
    "df.head()"
   ]
  },
  {
   "cell_type": "code",
   "execution_count": 3,
   "id": "8b3e4387-4dba-4f0c-9ac4-fa1bc3fd7d66",
   "metadata": {},
   "outputs": [],
   "source": [
    "# 取得mean與std 之後用於scale新的數據\n",
    "from sklearn.preprocessing import StandardScaler\n",
    "scaler=StandardScaler()\n",
    "df=scaler.fit_transform(df)\n",
    "mean=scaler.mean_\n",
    "std_dev=scaler.scale_"
   ]
  },
  {
   "cell_type": "code",
   "execution_count": 4,
   "id": "9e391fc2-77c5-4305-8f79-0c815db99560",
   "metadata": {},
   "outputs": [
    {
     "name": "stderr",
     "output_type": "stream",
     "text": [
      "WARNING:absl:Compiled the loaded model, but the compiled metrics have yet to be built. `model.compile_metrics` will be empty until you train or evaluate the model.\n"
     ]
    }
   ],
   "source": [
    "# 建立從舊的df選場次的func\n",
    "def choose(n):\n",
    "    if n>83 or n<0:\n",
    "        raise ValueError('n必須介於0~83之間 你的n=',n)\n",
    "    else:\n",
    "        target=df[n]\n",
    "        target=target.reshape((1,10))\n",
    "        print('Here is your target:\\n', target)\n",
    "        return target\n",
    "# 對結果的更新由數字到結果\n",
    "def outcome_changer(result):\n",
    "    if result == 1:\n",
    "        return 'Win'\n",
    "    else:\n",
    "        return 'Loss'\n",
    "        \n",
    "# 導入深度學習模型\n",
    "from tensorflow import keras\n",
    "dl_model=keras.models.load_model('dl_on_lol(ac88).h5')\n",
    "# 導入二元回歸模型\n",
    "import joblib\n",
    "br_model=joblib.load('reg_on_lol(ac94)')\n",
    "\n",
    "# 預測結果包裝成func\n",
    "def predict(target):\n",
    "    y_pred=dl_model.predict(target)\n",
    "    print('Deep learning Predict Result: ',outcome_changer(y_pred))\n",
    "    result=br_model.predict(target)\n",
    "    print('Binary Regression Predict Result: ', outcome_changer(result))\n",
    "    \n",
    "# 給自訂新數據用 資料標準化的func\n",
    "def data_scale(data):\n",
    "    data-=mean\n",
    "    data=data/std_dev\n",
    "    return data"
   ]
  },
  {
   "cell_type": "code",
   "execution_count": 5,
   "id": "1a112544-e7a2-452d-b9ad-3f3245386a5a",
   "metadata": {
    "scrolled": true
   },
   "outputs": [
    {
     "name": "stdout",
     "output_type": "stream",
     "text": [
      "Here is your target:\n",
      " [[ 1.          0.39357619  0.75232905  0.48517032  0.18162732  0.63232743\n",
      "   0.72412475  0.80195781 -1.1500041   2.7202941 ]]\n",
      "\u001b[1m1/1\u001b[0m \u001b[32m━━━━━━━━━━━━━━━━━━━━\u001b[0m\u001b[37m\u001b[0m \u001b[1m0s\u001b[0m 86ms/step\n",
      "Deep learning Predict Result:  Loss\n",
      "Binary Regression Predict Result:  Win\n",
      "Real-result: Win\n"
     ]
    }
   ],
   "source": [
    "# 輸入n 檢驗當中的比賽場次\n",
    "n=79\n",
    "target=choose(n)\n",
    "predict(target)\n",
    "# 真實比賽的結果\n",
    "print('Real-result:', df_check[n])"
   ]
  },
  {
   "cell_type": "code",
   "execution_count": 6,
   "id": "08155153-9754-46fe-b7a4-1426bc85f1fb",
   "metadata": {},
   "outputs": [],
   "source": [
    "# 自己模擬比賽的數據進行預測\n",
    "def pred(n):\n",
    "    if type(n) != list or len(n) != 10:\n",
    "        raise TypeError\n",
    "        print('type must be list in 10 words')\n",
    "    n=np.array([n])\n",
    "    n=(n-mean)/std_dev\n",
    "    print(n)\n",
    "    result=predict(n)\n",
    "    return result"
   ]
  },
  {
   "cell_type": "code",
   "execution_count": 7,
   "id": "e3c535b4-0250-4d86-a3a6-b6774c6ab734",
   "metadata": {},
   "outputs": [
    {
     "name": "stdout",
     "output_type": "stream",
     "text": [
      "[[-1.         -0.64308864 -1.12476918  1.96714513  1.35521923  0.32180773\n",
      "  -0.2398501  -0.32391054 -0.70384474 -0.36760731]]\n",
      "\u001b[1m1/1\u001b[0m \u001b[32m━━━━━━━━━━━━━━━━━━━━\u001b[0m\u001b[37m\u001b[0m \u001b[1m0s\u001b[0m 28ms/step\n",
      "Deep learning Predict Result:  Loss\n",
      "Binary Regression Predict Result:  Win\n",
      "[[ 1.         -1.2371659   0.75232905  0.48517032  0.18162732 -0.52657646\n",
      "  -0.76194963 -1.26213416  0.83601114 -0.36760731]]\n",
      "\u001b[1m1/1\u001b[0m \u001b[32m━━━━━━━━━━━━━━━━━━━━\u001b[0m\u001b[37m\u001b[0m \u001b[1m0s\u001b[0m 33ms/step\n",
      "Deep learning Predict Result:  Loss\n",
      "Binary Regression Predict Result:  Win\n"
     ]
    }
   ],
   "source": [
    "# 自製隊伍數據進行預測\n",
    "# 看起來有點複雜，因為除了Side 和 time 其他的單位都是5個人的總和...\n",
    "\"\"\"\n",
    "Side Time Turrets_Team Dragon_Team Baron_Team CS Golds Vision_Score GD@15\tObjectives_Stolen\n",
    "\"\"\"\n",
    "t=[0,1800,15,25,10,1200,60000,280,-1800,0]\n",
    "pred(t)\n",
    "r=[5,1600,45,15,5,1047,53902,215,2138,0]\n",
    "pred(r)"
   ]
  },
  {
   "cell_type": "code",
   "execution_count": 8,
   "id": "27b94844-3eb3-424e-aec3-561970c49e52",
   "metadata": {},
   "outputs": [],
   "source": [
    "# 把上面的預測簡化成基本的func\n",
    "question=['請輸入隊伍紅藍方，藍方=0。紅方=1',\n",
    "          '請輸入比賽用時(請輸入總用時秒數 ex.20分30秒輸入1500)',\n",
    "          '請輸入隊伍推塔的數量(介於0~9之間)',\n",
    "          '請輸入隊伍集殺的小龍的數量(0~6之間)',\n",
    "          '請輸入隊伍集殺的巴龍的數量(0~3之間)',\n",
    "          '請輸入隊伍5人的cs數總和(700~3500)',\n",
    "          '請輸入隊伍5人的Gold數總和(25000~100000)',\n",
    "          '請輸入隊伍5人的視野分數總和(70~1000)',\n",
    "          '請輸入隊伍5人的15分鐘經濟差(-10000~10000)',\n",
    "          '請輸入隊伍5人偷取中立物件(0~1)'\n",
    "    ]\n",
    "\n",
    "def lol_win_predict():\n",
    "    count = 0\n",
    "    q=[]\n",
    "    while count != 10:\n",
    "        print(question[count],\": \\n\")\n",
    "        i=int(input())*5\n",
    "        if count == 1 or 4<count<9:\n",
    "            i = i/5\n",
    "        q.append(i)\n",
    "        count+=1\n",
    "    print('你輸入的數值已轉換完畢\\n',q)\n",
    "    pred(q)"
   ]
  },
  {
   "cell_type": "code",
   "execution_count": null,
   "id": "2f01044c-1872-4fd4-847d-248ff7f2f651",
   "metadata": {},
   "outputs": [
    {
     "name": "stdout",
     "output_type": "stream",
     "text": [
      "請輸入隊伍紅藍方，藍方=0。紅方=1 : \n",
      "\n"
     ]
    }
   ],
   "source": [
    "lol_win_predict()"
   ]
  },
  {
   "cell_type": "code",
   "execution_count": null,
   "id": "e5eb1b67-c197-4554-8880-9ff487a10b9d",
   "metadata": {},
   "outputs": [],
   "source": []
  }
 ],
 "metadata": {
  "kernelspec": {
   "display_name": "Python 3 (ipykernel)",
   "language": "python",
   "name": "python3"
  },
  "language_info": {
   "codemirror_mode": {
    "name": "ipython",
    "version": 3
   },
   "file_extension": ".py",
   "mimetype": "text/x-python",
   "name": "python",
   "nbconvert_exporter": "python",
   "pygments_lexer": "ipython3",
   "version": "3.11.5"
  }
 },
 "nbformat": 4,
 "nbformat_minor": 5
}
